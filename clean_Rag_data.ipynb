{
 "cells": [
  {
   "cell_type": "markdown",
   "id": "5345afba-90b3-43f8-a60d-82b116e5d6fd",
   "metadata": {},
   "source": [
    "### preprocess "
   ]
  },
  {
   "cell_type": "code",
   "execution_count": 79,
   "id": "1f72b4b0-d920-422c-a12f-827e29f44d05",
   "metadata": {},
   "outputs": [],
   "source": [
    "import pandas as pd"
   ]
  },
  {
   "cell_type": "code",
   "execution_count": 81,
   "id": "9614e662-7980-4074-839e-9b1fb7b3819f",
   "metadata": {},
   "outputs": [],
   "source": [
    "cve = '/Users/angelesmarin/Desktop/rag docs/rag model/CVE.csv'\n",
    "df = pd.read_csv(cve)"
   ]
  },
  {
   "cell_type": "code",
   "execution_count": 82,
   "id": "3c566b52-bee5-4009-ac00-e81b91dad1a8",
   "metadata": {},
   "outputs": [],
   "source": [
    "#extract year from 'name' colummn -> assume cve-xxxx format"
   ]
  },
  {
   "cell_type": "code",
   "execution_count": 85,
   "id": "7fc7081d-342a-4ad4-8191-9d5304fb0e59",
   "metadata": {},
   "outputs": [
    {
     "data": {
      "text/html": [
       "<div>\n",
       "<style scoped>\n",
       "    .dataframe tbody tr th:only-of-type {\n",
       "        vertical-align: middle;\n",
       "    }\n",
       "\n",
       "    .dataframe tbody tr th {\n",
       "        vertical-align: top;\n",
       "    }\n",
       "\n",
       "    .dataframe thead th {\n",
       "        text-align: right;\n",
       "    }\n",
       "</style>\n",
       "<table border=\"1\" class=\"dataframe\">\n",
       "  <thead>\n",
       "    <tr style=\"text-align: right;\">\n",
       "      <th></th>\n",
       "      <th>Name</th>\n",
       "      <th>Description</th>\n",
       "      <th>Year</th>\n",
       "    </tr>\n",
       "  </thead>\n",
       "  <tbody>\n",
       "    <tr>\n",
       "      <th>258854</th>\n",
       "      <td>CVE-2023-0001</td>\n",
       "      <td>An information exposure vulnerability in the P...</td>\n",
       "      <td>2023.0</td>\n",
       "    </tr>\n",
       "    <tr>\n",
       "      <th>258855</th>\n",
       "      <td>CVE-2023-0002</td>\n",
       "      <td>A problem with a protection mechanism in the P...</td>\n",
       "      <td>2023.0</td>\n",
       "    </tr>\n",
       "    <tr>\n",
       "      <th>258856</th>\n",
       "      <td>CVE-2023-0003</td>\n",
       "      <td>A file disclosure vulnerability in the Palo Al...</td>\n",
       "      <td>2023.0</td>\n",
       "    </tr>\n",
       "    <tr>\n",
       "      <th>258857</th>\n",
       "      <td>CVE-2023-0004</td>\n",
       "      <td>A local file deletion vulnerability in Palo Al...</td>\n",
       "      <td>2023.0</td>\n",
       "    </tr>\n",
       "    <tr>\n",
       "      <th>258858</th>\n",
       "      <td>CVE-2023-0005</td>\n",
       "      <td>A vulnerability in Palo Alto Networks PAN-OS s...</td>\n",
       "      <td>2023.0</td>\n",
       "    </tr>\n",
       "  </tbody>\n",
       "</table>\n",
       "</div>"
      ],
      "text/plain": [
       "                 Name                                        Description  \\\n",
       "258854  CVE-2023-0001  An information exposure vulnerability in the P...   \n",
       "258855  CVE-2023-0002  A problem with a protection mechanism in the P...   \n",
       "258856  CVE-2023-0003  A file disclosure vulnerability in the Palo Al...   \n",
       "258857  CVE-2023-0004  A local file deletion vulnerability in Palo Al...   \n",
       "258858  CVE-2023-0005  A vulnerability in Palo Alto Networks PAN-OS s...   \n",
       "\n",
       "          Year  \n",
       "258854  2023.0  \n",
       "258855  2023.0  \n",
       "258856  2023.0  \n",
       "258857  2023.0  \n",
       "258858  2023.0  "
      ]
     },
     "execution_count": 85,
     "metadata": {},
     "output_type": "execute_result"
    }
   ],
   "source": [
    "df['Year'] = df['Name'].str.extract(r'CVE-(\\d{4})-\\d{4,}')  #regular expression defines the string starts with CVE, then say there are exactly 4 digits after cve; then {4,} means thats followed by at least 4 digits, but can be more\n",
    "df['Year'] = pd.to_numeric(df['Year'], errors='coerce')  #make non-numeric to NaN\n",
    "\n",
    "#filter by year\n",
    "df = df[df['Year'].isin([2023, 2024])] \n",
    "\n",
    "#check df\n",
    "df.head()"
   ]
  },
  {
   "cell_type": "code",
   "execution_count": null,
   "id": "579a61be-2406-4141-a4f4-4c61b71d4de4",
   "metadata": {},
   "outputs": [],
   "source": [
    "#save to new csv "
   ]
  },
  {
   "cell_type": "code",
   "execution_count": 87,
   "id": "438b82b3-cd6d-485e-8fb3-f8d8ddbde98c",
   "metadata": {},
   "outputs": [
    {
     "name": "stdout",
     "output_type": "stream",
     "text": [
      "data saved to 'filtered_CVE.csv'\n"
     ]
    }
   ],
   "source": [
    "df.to_csv('/Users/angelesmarin/Desktop/rag docs/rag model/filtered_CVE.csv', index=False)\n",
    "print(\"data saved to 'filtered_CVE.csv'\")"
   ]
  },
  {
   "cell_type": "markdown",
   "id": "6099998a-2b53-4f62-a380-977b7373d416",
   "metadata": {},
   "source": [
    "### convert to .txt"
   ]
  },
  {
   "cell_type": "code",
   "execution_count": null,
   "id": "4d55df35-a3fe-47ce-840c-eb553048284c",
   "metadata": {},
   "outputs": [],
   "source": [
    "import csv"
   ]
  },
  {
   "cell_type": "code",
   "execution_count": 91,
   "id": "16ee27ca-4042-4a89-9b60-9893cd248f87",
   "metadata": {},
   "outputs": [
    {
     "name": "stdout",
     "output_type": "stream",
     "text": [
      "CSV data converted to 'filtered_CVE.txt'\n"
     ]
    }
   ],
   "source": [
    "#convert csv to txt\n",
    "with open('/Users/angelesmarin/Desktop/rag docs/rag model/filtered_CVE.csv', 'r') as csv_file: #read mode\n",
    "    with open('/Users/angelesmarin/Desktop/rag docs/rag model/filtered_CVE.txt', 'w') as txt_file: #write mode\n",
    "        for line in csv_file:\n",
    "            txt_file.write(line)\n",
    "\n",
    "print(\"CSV data converted to 'filtered_CVE.txt'\")"
   ]
  },
  {
   "cell_type": "code",
   "execution_count": null,
   "id": "580d011a-a00e-437d-88e7-7e09e2de99c5",
   "metadata": {},
   "outputs": [],
   "source": []
  }
 ],
 "metadata": {
  "kernelspec": {
   "display_name": "Python [conda env:base] *",
   "language": "python",
   "name": "conda-base-py"
  },
  "language_info": {
   "codemirror_mode": {
    "name": "ipython",
    "version": 3
   },
   "file_extension": ".py",
   "mimetype": "text/x-python",
   "name": "python",
   "nbconvert_exporter": "python",
   "pygments_lexer": "ipython3",
   "version": "3.12.7"
  }
 },
 "nbformat": 4,
 "nbformat_minor": 5
}
